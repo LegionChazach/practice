{
  "nbformat": 4,
  "nbformat_minor": 0,
  "metadata": {
    "colab": {
      "name": "Intropractice.ipynb",
      "provenance": [],
      "authorship_tag": "ABX9TyPw8L6n0yeu2y8eU6Ve5JC4",
      "include_colab_link": true
    },
    "kernelspec": {
      "name": "python3",
      "display_name": "Python 3"
    },
    "language_info": {
      "name": "python"
    }
  },
  "cells": [
    {
      "cell_type": "markdown",
      "metadata": {
        "id": "view-in-github",
        "colab_type": "text"
      },
      "source": [
        "<a href=\"https://colab.research.google.com/github/LegionChazach/practice/blob/main/Intropractice.ipynb\" target=\"_parent\"><img src=\"https://colab.research.google.com/assets/colab-badge.svg\" alt=\"Open In Colab\"/></a>"
      ]
    },
    {
      "cell_type": "markdown",
      "metadata": {
        "id": "FRpfADY42LrG"
      },
      "source": [
        "### Sales\n",
        "\n"
      ]
    },
    {
      "cell_type": "code",
      "metadata": {
        "colab": {
          "base_uri": "https://localhost:8080/"
        },
        "id": "ND7JUDMV1nzg",
        "outputId": "08c5eb11-8109-4cca-d5b4-f34a6d8d360f"
      },
      "source": [
        "revenue = 10000\n",
        "tax = .19\n",
        "income = tax * revenue\n",
        "print(income)"
      ],
      "execution_count": 2,
      "outputs": [
        {
          "output_type": "stream",
          "name": "stdout",
          "text": [
            "1900.0\n"
          ]
        }
      ]
    },
    {
      "cell_type": "markdown",
      "metadata": {
        "id": "Peanl1mb2kXE"
      },
      "source": [
        "### Summary"
      ]
    },
    {
      "cell_type": "markdown",
      "metadata": {
        "id": "nEtaGEta2t00"
      },
      "source": [
        ""
      ]
    },
    {
      "cell_type": "code",
      "metadata": {
        "id": "uPINokZ32uQs"
      },
      "source": [
        "import numpy as np\n",
        "\n",
        "np.__version__\n",
        "\n",
        "import imageai\n"
      ],
      "execution_count": 2,
      "outputs": []
    },
    {
      "cell_type": "markdown",
      "metadata": {
        "id": "r9KY1ZXv3vnN"
      },
      "source": [
        "Examples of *markdown*  \n",
        "Examples of **markdown**  \n",
        "Examples of __markdown__  \n",
        "Examples of 'markdown'  \n",
        "\n",
        "'''\n",
        "Examples of markdown  \n",
        "'''\n",
        ">Python\n",
        ">>Code\n",
        "\n",
        "An ordered list:\n",
        "1. One\n",
        "2. Two\n",
        "3. Three\n",
        "\n",
        "An unordered list:\n",
        "* One\n",
        "* Two\n",
        "* Three"
      ]
    },
    {
      "cell_type": "markdown",
      "metadata": {
        "id": "EzofoC7m5rGk"
      },
      "source": [
        "[Google](https://www.google.com/)\n",
        "![Python](https://www.python.org/static/community_logos/python-logo-master-v3-TM-flattened.png)\n",
        "$y = x^2$\n",
        "\n",
        "$\\frac{1}{n} \\sum_{i=1}^{n}$\n",
        "$A = \\begin{pmatrix}\n",
        "a_{1, 1} & a_{1, 2} \\\\\n",
        "a_{2, 1} & a_{2, 2}\n",
        "\\end{pmatrix}$\n",
        "\n",
        "Col1 | Col2 | Col3\n",
        "--- | --- | ---\n",
        "val1 | val2 | val3\n",
        "val4 | val5 | val6\n",
        "\n"
      ]
    },
    {
      "cell_type": "code",
      "metadata": {
        "id": "GgAsRBfh8kWH"
      },
      "source": [
        ""
      ],
      "execution_count": null,
      "outputs": []
    }
  ]
}